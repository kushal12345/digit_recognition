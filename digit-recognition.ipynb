{
 "cells": [
  {
   "cell_type": "code",
   "execution_count": 1,
   "metadata": {},
   "outputs": [],
   "source": [
    "import scipy.io \n",
    "import numpy as np\n",
    "import matplotlib.pyplot as plt \n",
    "from sklearn import neighbors\n",
    "from sklearn.utils import shuffle \n",
    "from sklearn.metrics import accuracy_score \n",
    "from sklearn.ensemble import RandomForestClassifier \n",
    "from sklearn.model_selection import train_test_split \n",
    "\n"
   ]
  },
  {
   "cell_type": "code",
   "execution_count": 3,
   "metadata": {},
   "outputs": [],
   "source": [
    "train_data = scipy.io.loadmat(\"Practice_Dec24/train_32x32.mat\")\n"
   ]
  },
  {
   "cell_type": "code",
   "execution_count": 5,
   "metadata": {},
   "outputs": [],
   "source": [
    "test_data = scipy.io.loadmat(\"Practice_Dec24/test_32x32.mat\")\n"
   ]
  },
  {
   "cell_type": "code",
   "execution_count": 6,
   "metadata": {},
   "outputs": [
    {
     "data": {
      "text/plain": [
       "dict_keys(['__header__', '__version__', '__globals__', 'X', 'y'])"
      ]
     },
     "execution_count": 6,
     "metadata": {},
     "output_type": "execute_result"
    }
   ],
   "source": [
    "train_data.keys()\n"
   ]
  },
  {
   "cell_type": "code",
   "execution_count": 7,
   "metadata": {},
   "outputs": [],
   "source": [
    "X=train_data['X']\n",
    "Y=train_data['y']"
   ]
  },
  {
   "cell_type": "code",
   "execution_count": 8,
   "metadata": {},
   "outputs": [
    {
     "data": {
      "text/plain": [
       "32"
      ]
     },
     "execution_count": 8,
     "metadata": {},
     "output_type": "execute_result"
    }
   ],
   "source": [
    "len(X)\n"
   ]
  },
  {
   "cell_type": "code",
   "execution_count": 9,
   "metadata": {},
   "outputs": [
    {
     "data": {
      "text/plain": [
       "73257"
      ]
     },
     "execution_count": 9,
     "metadata": {},
     "output_type": "execute_result"
    }
   ],
   "source": [
    "len(Y)\n"
   ]
  },
  {
   "cell_type": "code",
   "execution_count": 10,
   "metadata": {},
   "outputs": [
    {
     "data": {
      "text/plain": [
       "(32, 32, 3, 73257)"
      ]
     },
     "execution_count": 10,
     "metadata": {},
     "output_type": "execute_result"
    }
   ],
   "source": [
    "X.shape"
   ]
  },
  {
   "cell_type": "code",
   "execution_count": 11,
   "metadata": {},
   "outputs": [
    {
     "data": {
      "text/plain": [
       "(73257, 1)"
      ]
     },
     "execution_count": 11,
     "metadata": {},
     "output_type": "execute_result"
    }
   ],
   "source": [
    "Y.shape"
   ]
  },
  {
   "cell_type": "code",
   "execution_count": 12,
   "metadata": {},
   "outputs": [
    {
     "data": {
      "image/png": "[encoded data removed]",
      "text/plain": [
       "<Figure size 432x288 with 1 Axes>"
      ]
     },
     "metadata": {
      "needs_background": "light"
     },
     "output_type": "display_data"
    },
    {
     "name": "stdout",
     "output_type": "stream",
     "text": [
      "[3]\n"
     ]
    }
   ],
   "source": [
    "img_index=25\n",
    "plt.imshow(X[:,:,:,img_index])\n",
    "plt.show()\n",
    "print(Y[img_index])"
   ]
  },
  {
   "cell_type": "code",
   "execution_count": 13,
   "metadata": {},
   "outputs": [
    {
     "name": "stdout",
     "output_type": "stream",
     "text": [
      "Variable                 Type        Data/Info\n",
      "----------------------------------------------\n",
      "RandomForestClassifier   ABCMeta     <class 'sklearn.ensemble.<...>.RandomForestClassifier'>\n",
      "X                        ndarray     32x32x3x73257: 225045504 elems, type `uint8`, 225045504 bytes (214.6201171875 Mb)\n",
      "Y                        ndarray     73257x1: 73257 elems, type `uint8`, 73257 bytes\n",
      "accuracy_score           function    <function accuracy_score at 0x7fe0fe5958c8>\n",
      "img_index                int         25\n",
      "neighbors                module      <module 'sklearn.neighbor<...>n/neighbors/__init__.py'>\n",
      "np                       module      <module 'numpy' from '/us<...>kages/numpy/__init__.py'>\n",
      "plt                      module      <module 'matplotlib.pyplo<...>es/matplotlib/pyplot.py'>\n",
      "scipy                    module      <module 'scipy' from '/us<...>kages/scipy/__init__.py'>\n",
      "shuffle                  function    <function shuffle at 0x7fe0fefe0d08>\n",
      "test_data                dict        n=5\n",
      "train_data               dict        n=5\n",
      "train_test_split         function    <function train_test_split at 0x7fe0fe31cf28>\n"
     ]
    }
   ],
   "source": [
    "%whos"
   ]
  },
  {
   "cell_type": "code",
   "execution_count": 14,
   "metadata": {},
   "outputs": [],
   "source": [
    "X = X.reshape(X.shape[0]*X.shape[1]*X.shape[2],X.shape[3]).T"
   ]
  },
  {
   "cell_type": "code",
   "execution_count": 15,
   "metadata": {},
   "outputs": [],
   "source": [
    "Y = Y.reshape(Y.shape[0],)"
   ]
  },
  {
   "cell_type": "code",
   "execution_count": 16,
   "metadata": {},
   "outputs": [
    {
     "data": {
      "text/plain": [
       "(73257, 3072)"
      ]
     },
     "execution_count": 16,
     "metadata": {},
     "output_type": "execute_result"
    }
   ],
   "source": [
    "np.shape(X)"
   ]
  },
  {
   "cell_type": "code",
   "execution_count": 17,
   "metadata": {},
   "outputs": [],
   "source": [
    "X, Y = shuffle(X, Y, random_state=42)"
   ]
  },
  {
   "cell_type": "code",
   "execution_count": 18,
   "metadata": {},
   "outputs": [],
   "source": [
    "size = X.shape[0]"
   ]
  },
  {
   "cell_type": "code",
   "execution_count": 19,
   "metadata": {},
   "outputs": [],
   "source": [
    "X = X[:size,:]"
   ]
  },
  {
   "cell_type": "code",
   "execution_count": 20,
   "metadata": {},
   "outputs": [],
   "source": [
    "Y = Y[:size]"
   ]
  },
  {
   "cell_type": "code",
   "execution_count": 21,
   "metadata": {},
   "outputs": [],
   "source": [
    "\n",
    "\n",
    "# Splitting 33 percent (approx. 1/3) data for test and remaining 67 (approx. 2/3) for training\n",
    "X_train, X_test, y_train, y_test = train_test_split(X, Y, test_size=0.33, random_state=0) \n",
    "\n"
   ]
  },
  {
   "cell_type": "code",
   "execution_count": null,
   "metadata": {},
   "outputs": [],
   "source": [
    "d= {}\n",
    "\n",
    "for k in range(5, 50, 5): # Varying the k value from 5 to 100 in step size of 10\n",
    "    l =[]\n",
    "    n_neighbors = k # Number of neighbors for kNN\n",
    "\n",
    "    # Create an instance of neighbors class imported from sklearn\n",
    "    classifier = neighbors.KNeighborsClassifier(n_neighbors)\n",
    "\n",
    "    # Fit the generated data to the model \n",
    "    classifier.fit(X_train, y_train)\n",
    "\n",
    "    # Get the training scores\n",
    "    l.append(\"%.3f\"%classifier.score(X_train, y_train))\n",
    "    \n",
    "    # Get the prediction result (for test data)\n",
    "    Z = classifier.predict(X_test)\n",
    "\n",
    "    # Get the test accurracy\n",
    "    l.append(\"%.3f\"%accuracy_score(y_test, Z))\n",
    "    d[k] = l\n",
    "\n",
    "# Printing out as a table format\n",
    "print (\"{:<8} {:<15} {:<10}\".format('k-value','Training score','Test score'))\n",
    "for key, val in sorted(d.items()):\n",
    "    label, num = val\n",
    "    print (\"{:<8} {:<15} {:<10}\".format(key, label, num))\n"
   ]
  },
  {
   "cell_type": "code",
   "execution_count": null,
   "metadata": {},
   "outputs": [],
   "source": []
  },
  {
   "cell_type": "code",
   "execution_count": null,
   "metadata": {},
   "outputs": [],
   "source": []
  },
  {
   "cell_type": "code",
   "execution_count": null,
   "metadata": {},
   "outputs": [],
   "source": []
  }
 ],
 "metadata": {
  "kernelspec": {
   "display_name": "Python 3",
   "language": "python",
   "name": "python3"
  },
  "language_info": {
   "codemirror_mode": {
    "name": "ipython",
    "version": 3
   },
   "file_extension": ".py",
   "mimetype": "text/x-python",
   "name": "python",
   "nbconvert_exporter": "python",
   "pygments_lexer": "ipython3",
   "version": "3.7.1"
  }
 },
 "nbformat": 4,
 "nbformat_minor": 2
}
